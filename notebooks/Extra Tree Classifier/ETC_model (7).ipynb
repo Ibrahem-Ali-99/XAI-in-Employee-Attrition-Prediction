{
  "nbformat": 4,
  "nbformat_minor": 0,
  "metadata": {
    "colab": {
      "provenance": [],
      "gpuType": "T4"
    },
    "kernelspec": {
      "name": "python3",
      "display_name": "Python 3"
    },
    "language_info": {
      "name": "python"
    },
    "accelerator": "GPU"
  },
  "cells": [
    {
      "cell_type": "markdown",
      "source": [
        "# **Imports**"
      ],
      "metadata": {
        "id": "OJV2d-t5axt-"
      }
    },
    {
      "cell_type": "code",
      "source": [
        "%%capture\n",
        "!pip install -q lime shap"
      ],
      "metadata": {
        "id": "eEXlb3mUKJAi"
      },
      "execution_count": null,
      "outputs": []
    },
    {
      "cell_type": "code",
      "execution_count": null,
      "metadata": {
        "id": "ZnCLRGxtQpUQ"
      },
      "outputs": [],
      "source": [
        "import numpy as np, pandas as pd\n",
        "import matplotlib.pyplot as plt, seaborn as sns\n",
        "from sklearn.model_selection import StratifiedKFold\n",
        "import kagglehub\n",
        "from sklearn.model_selection import train_test_split, learning_curve, ValidationCurveDisplay\n",
        "from sklearn.metrics import accuracy_score, classification_report, ConfusionMatrixDisplay, RocCurveDisplay, auc, PrecisionRecallDisplay\n",
        "from sklearn.inspection import PartialDependenceDisplay,permutation_importance\n",
        "from sklearn.model_selection import GridSearchCV\n",
        "from sklearn.ensemble import ExtraTreesClassifier\n",
        "from imblearn.over_sampling import SMOTE\n",
        "from imblearn.pipeline import Pipeline as ImbPipeline\n",
        "import textwrap\n",
        "import lime\n",
        "import lime.lime_tabular\n",
        "import shap\n",
        "from sklearn.metrics import accuracy_score, classification_report, ConfusionMatrixDisplay, RocCurveDisplay, auc, roc_curve\n",
        "import warnings\n",
        "warnings.filterwarnings('ignore')"
      ]
    },
    {
      "cell_type": "markdown",
      "source": [
        "# **Utils**"
      ],
      "metadata": {
        "id": "qor0b6nNpvqA"
      }
    },
    {
      "cell_type": "code",
      "source": [
        "def our_confusion_matrix(model, name='Model'):\n",
        "    fig, (ax1, ax2) = plt.subplots(1, 2, figsize=(16,8))\n",
        "    ConfusionMatrixDisplay.from_estimator(model, X_train, y_train, cmap=\"Oranges\", ax=ax1)\n",
        "    ConfusionMatrixDisplay.from_estimator(model, X_test, y_test, cmap=\"Oranges\", ax=ax2)\n",
        "    plt.title(f\"{name} Confusion Matrix\")\n",
        "\n",
        "def our_roc(model, name=\"Model\"):\n",
        "    fig, (ax1, ax2) = plt.subplots(1, 2, figsize=(20, 10))\n",
        "    roc1 = RocCurveDisplay.from_estimator(\n",
        "    model, X_train, y_train,\n",
        "    name=name, ax=ax1,\n",
        "    color=\"orange\"\n",
        "    )\n",
        "    roc2 = RocCurveDisplay.from_estimator(\n",
        "        model, X_test, y_test,\n",
        "        name=name, ax=ax2,\n",
        "        color=\"orange\"\n",
        "    )\n",
        "    ax1.fill_between(roc1.fpr, roc1.tpr, alpha=0.4, color=\"orange\")\n",
        "    ax2.fill_between(roc2.fpr, roc2.tpr, alpha=0.4, color=\"orange\")\n",
        "    ax1.set_title(f\"{name} Training ROC Curve\", fontsize=16)\n",
        "    ax2.set_title(f\"{name} Testing ROC Curve\", fontsize=16)\n",
        "    for ax in [ax1, ax2]:\n",
        "        ax.grid(alpha=0.5)\n",
        "\n",
        "def our_learning_curve(model, name='Model'):\n",
        "    train_sizes, train_scores, test_scores = learning_curve(\n",
        "        model, X_train, y_train, cv=5, scoring='accuracy',\n",
        "        train_sizes=np.linspace(0.1, 1.0, 10), random_state=0\n",
        "    )\n",
        "\n",
        "    plt.figure(figsize=(13, 8))\n",
        "    plt.plot(train_sizes, np.mean(train_scores, axis=1), 'o-', color=\"mediumseagreen\", label=\"Training score\")\n",
        "    plt.plot(train_sizes, np.mean(test_scores, axis=1), 'o-', color=\"royalblue\", label=\"Cross-validation score\")\n",
        "    plt.title(f\"{name} Learning Curve\")\n",
        "    plt.xlabel(\"Training examples\")\n",
        "    plt.ylabel(\"Score\")\n",
        "    plt.legend(loc=\"best\")\n",
        "    plt.grid(alpha=0.5)\n",
        "\n",
        "def our_prc(model, name=\"Model\"):\n",
        "    fig, (ax1, ax2) = plt.subplots(1, 2, figsize=(21, 13))\n",
        "    train_disp = PrecisionRecallDisplay.from_estimator(model, X_train, y_train, ax=ax1, color='orange')\n",
        "    test_disp = PrecisionRecallDisplay.from_estimator(model, X_test, y_test, ax=ax2, color='orange')\n",
        "    ax1.set_title(f\"{name} Precision-Recall Curve - Train\")\n",
        "    ax2.set_title(f\"{name} Precision-Recall Curve - Test\")\n",
        "    ax1.fill_between(train_disp.recall, train_disp.precision, alpha=0.4, color='orange')\n",
        "    ax2.fill_between(test_disp.recall, test_disp.precision, alpha=0.4, color='orange')"
      ],
      "metadata": {
        "id": "mERRAoyCpx8Q"
      },
      "execution_count": null,
      "outputs": []
    },
    {
      "cell_type": "markdown",
      "source": [
        "# **Load Processed Dat**a"
      ],
      "metadata": {
        "id": "f1LmIezla0Z8"
      }
    },
    {
      "cell_type": "code",
      "source": [
        "path = kagglehub.dataset_download('mohamedhassan77/xai-project-processed-data')\n",
        "df = pd.read_csv(f\"{path}/combined_adasyn_train_test.csv\")\n",
        "df"
      ],
      "metadata": {
        "id": "sgQpVNXRa4p8",
        "colab": {
          "base_uri": "https://localhost:8080/"
        },
        "outputId": "e41d18ab-95bd-4068-ad28-4847806142c9"
      },
      "execution_count": null,
      "outputs": [
        {
          "output_type": "execute_result",
          "data": {
            "text/plain": [
              "      Age  BusinessTravel  DailyRate  Department  DistanceFromHome  Education  \\\n",
              "0      31               2       1062           1                24          3   \n",
              "1      50               2        328           1                 1          3   \n",
              "2      46               2        717           1                13          4   \n",
              "3      44               2        170           1                 1          4   \n",
              "4      26               1       1479           1                 1          3   \n",
              "...   ...             ...        ...         ...               ...        ...   \n",
              "2042   56               2       1162           1                24          2   \n",
              "2043   46               2        669           2                 9          2   \n",
              "2044   30               2       1240           0                 9          3   \n",
              "2045   31               2        741           1                 2          4   \n",
              "2046   31               2        670           1                26          1   \n",
              "\n",
              "      EducationField  EnvironmentSatisfaction  Gender  HourlyRate  ...  \\\n",
              "0                  3                        3       0          96  ...   \n",
              "1                  3                        3       1          86  ...   \n",
              "2                  1                        3       1          34  ...   \n",
              "3                  1                        2       1          78  ...   \n",
              "4                  1                        3       0          84  ...   \n",
              "...              ...                      ...     ...         ...  ...   \n",
              "2042               1                        1       1          97  ...   \n",
              "2043               3                        3       1          64  ...   \n",
              "2044               0                        3       1          48  ...   \n",
              "2045               1                        2       1          69  ...   \n",
              "2046               1                        1       1          31  ...   \n",
              "\n",
              "      WorkLifeBalance  YearsAtCompany  YearsInCurrentRole  \\\n",
              "0                   3            10.0                   9   \n",
              "1                   2             3.0                   2   \n",
              "2                   3            10.0                   7   \n",
              "3                   3             2.0                   0   \n",
              "4                   1             6.0                   5   \n",
              "...               ...             ...                 ...   \n",
              "2042                3             4.0                   2   \n",
              "2043                3             9.0                   8   \n",
              "2044                1            11.0                   9   \n",
              "2045                4             5.0                   2   \n",
              "2046                2             5.0                   2   \n",
              "\n",
              "      YearsSinceLastPromotion  YearsWithCurrManager  promotion_velocity  \\\n",
              "0                           1                     8            9.999900   \n",
              "1                           0                     2       300000.000000   \n",
              "2                           0                     9      1000000.000000   \n",
              "3                           2                     2            0.999995   \n",
              "4                           1                     4            5.999940   \n",
              "...                       ...                   ...                 ...   \n",
              "2042                        1                     0            3.999960   \n",
              "2043                        4                     7            2.249994   \n",
              "2044                        4                     7            2.749993   \n",
              "2045                        0                     3       500000.000000   \n",
              "2046                        4                     3            1.249997   \n",
              "\n",
              "      workload_score  compensation_ratio  Attrition    Set  \n",
              "0                  1            1.019760          0  Train  \n",
              "1                  2            1.281918          0  Train  \n",
              "2                  1            0.832635          0  Train  \n",
              "3                  1            0.753443          0  Train  \n",
              "4                  3            1.007878          0  Train  \n",
              "...              ...                 ...        ...    ...  \n",
              "2042               1            0.898732          1   Test  \n",
              "2043               1            1.558490          1   Test  \n",
              "2044               7            2.052053          0   Test  \n",
              "2045               0            1.207921          0   Test  \n",
              "2046               2            1.008663          0   Test  \n",
              "\n",
              "[2047 rows x 35 columns]"
            ],
            "text/html": [
              "\n",
              "  <div id=\"df-98cd4147-aa0f-4d0e-9eeb-c9f00817a4a0\" class=\"colab-df-container\">\n",
              "    <div>\n",
              "<style scoped>\n",
              "    .dataframe tbody tr th:only-of-type {\n",
              "        vertical-align: middle;\n",
              "    }\n",
              "\n",
              "    .dataframe tbody tr th {\n",
              "        vertical-align: top;\n",
              "    }\n",
              "\n",
              "    .dataframe thead th {\n",
              "        text-align: right;\n",
              "    }\n",
              "</style>\n",
              "<table border=\"1\" class=\"dataframe\">\n",
              "  <thead>\n",
              "    <tr style=\"text-align: right;\">\n",
              "      <th></th>\n",
              "      <th>Age</th>\n",
              "      <th>BusinessTravel</th>\n",
              "      <th>DailyRate</th>\n",
              "      <th>Department</th>\n",
              "      <th>DistanceFromHome</th>\n",
              "      <th>Education</th>\n",
              "      <th>EducationField</th>\n",
              "      <th>EnvironmentSatisfaction</th>\n",
              "      <th>Gender</th>\n",
              "      <th>HourlyRate</th>\n",
              "      <th>...</th>\n",
              "      <th>WorkLifeBalance</th>\n",
              "      <th>YearsAtCompany</th>\n",
              "      <th>YearsInCurrentRole</th>\n",
              "      <th>YearsSinceLastPromotion</th>\n",
              "      <th>YearsWithCurrManager</th>\n",
              "      <th>promotion_velocity</th>\n",
              "      <th>workload_score</th>\n",
              "      <th>compensation_ratio</th>\n",
              "      <th>Attrition</th>\n",
              "      <th>Set</th>\n",
              "    </tr>\n",
              "  </thead>\n",
              "  <tbody>\n",
              "    <tr>\n",
              "      <th>0</th>\n",
              "      <td>31</td>\n",
              "      <td>2</td>\n",
              "      <td>1062</td>\n",
              "      <td>1</td>\n",
              "      <td>24</td>\n",
              "      <td>3</td>\n",
              "      <td>3</td>\n",
              "      <td>3</td>\n",
              "      <td>0</td>\n",
              "      <td>96</td>\n",
              "      <td>...</td>\n",
              "      <td>3</td>\n",
              "      <td>10.0</td>\n",
              "      <td>9</td>\n",
              "      <td>1</td>\n",
              "      <td>8</td>\n",
              "      <td>9.999900</td>\n",
              "      <td>1</td>\n",
              "      <td>1.019760</td>\n",
              "      <td>0</td>\n",
              "      <td>Train</td>\n",
              "    </tr>\n",
              "    <tr>\n",
              "      <th>1</th>\n",
              "      <td>50</td>\n",
              "      <td>2</td>\n",
              "      <td>328</td>\n",
              "      <td>1</td>\n",
              "      <td>1</td>\n",
              "      <td>3</td>\n",
              "      <td>3</td>\n",
              "      <td>3</td>\n",
              "      <td>1</td>\n",
              "      <td>86</td>\n",
              "      <td>...</td>\n",
              "      <td>2</td>\n",
              "      <td>3.0</td>\n",
              "      <td>2</td>\n",
              "      <td>0</td>\n",
              "      <td>2</td>\n",
              "      <td>300000.000000</td>\n",
              "      <td>2</td>\n",
              "      <td>1.281918</td>\n",
              "      <td>0</td>\n",
              "      <td>Train</td>\n",
              "    </tr>\n",
              "    <tr>\n",
              "      <th>2</th>\n",
              "      <td>46</td>\n",
              "      <td>2</td>\n",
              "      <td>717</td>\n",
              "      <td>1</td>\n",
              "      <td>13</td>\n",
              "      <td>4</td>\n",
              "      <td>1</td>\n",
              "      <td>3</td>\n",
              "      <td>1</td>\n",
              "      <td>34</td>\n",
              "      <td>...</td>\n",
              "      <td>3</td>\n",
              "      <td>10.0</td>\n",
              "      <td>7</td>\n",
              "      <td>0</td>\n",
              "      <td>9</td>\n",
              "      <td>1000000.000000</td>\n",
              "      <td>1</td>\n",
              "      <td>0.832635</td>\n",
              "      <td>0</td>\n",
              "      <td>Train</td>\n",
              "    </tr>\n",
              "    <tr>\n",
              "      <th>3</th>\n",
              "      <td>44</td>\n",
              "      <td>2</td>\n",
              "      <td>170</td>\n",
              "      <td>1</td>\n",
              "      <td>1</td>\n",
              "      <td>4</td>\n",
              "      <td>1</td>\n",
              "      <td>2</td>\n",
              "      <td>1</td>\n",
              "      <td>78</td>\n",
              "      <td>...</td>\n",
              "      <td>3</td>\n",
              "      <td>2.0</td>\n",
              "      <td>0</td>\n",
              "      <td>2</td>\n",
              "      <td>2</td>\n",
              "      <td>0.999995</td>\n",
              "      <td>1</td>\n",
              "      <td>0.753443</td>\n",
              "      <td>0</td>\n",
              "      <td>Train</td>\n",
              "    </tr>\n",
              "    <tr>\n",
              "      <th>4</th>\n",
              "      <td>26</td>\n",
              "      <td>1</td>\n",
              "      <td>1479</td>\n",
              "      <td>1</td>\n",
              "      <td>1</td>\n",
              "      <td>3</td>\n",
              "      <td>1</td>\n",
              "      <td>3</td>\n",
              "      <td>0</td>\n",
              "      <td>84</td>\n",
              "      <td>...</td>\n",
              "      <td>1</td>\n",
              "      <td>6.0</td>\n",
              "      <td>5</td>\n",
              "      <td>1</td>\n",
              "      <td>4</td>\n",
              "      <td>5.999940</td>\n",
              "      <td>3</td>\n",
              "      <td>1.007878</td>\n",
              "      <td>0</td>\n",
              "      <td>Train</td>\n",
              "    </tr>\n",
              "    <tr>\n",
              "      <th>...</th>\n",
              "      <td>...</td>\n",
              "      <td>...</td>\n",
              "      <td>...</td>\n",
              "      <td>...</td>\n",
              "      <td>...</td>\n",
              "      <td>...</td>\n",
              "      <td>...</td>\n",
              "      <td>...</td>\n",
              "      <td>...</td>\n",
              "      <td>...</td>\n",
              "      <td>...</td>\n",
              "      <td>...</td>\n",
              "      <td>...</td>\n",
              "      <td>...</td>\n",
              "      <td>...</td>\n",
              "      <td>...</td>\n",
              "      <td>...</td>\n",
              "      <td>...</td>\n",
              "      <td>...</td>\n",
              "      <td>...</td>\n",
              "      <td>...</td>\n",
              "    </tr>\n",
              "    <tr>\n",
              "      <th>2042</th>\n",
              "      <td>56</td>\n",
              "      <td>2</td>\n",
              "      <td>1162</td>\n",
              "      <td>1</td>\n",
              "      <td>24</td>\n",
              "      <td>2</td>\n",
              "      <td>1</td>\n",
              "      <td>1</td>\n",
              "      <td>1</td>\n",
              "      <td>97</td>\n",
              "      <td>...</td>\n",
              "      <td>3</td>\n",
              "      <td>4.0</td>\n",
              "      <td>2</td>\n",
              "      <td>1</td>\n",
              "      <td>0</td>\n",
              "      <td>3.999960</td>\n",
              "      <td>1</td>\n",
              "      <td>0.898732</td>\n",
              "      <td>1</td>\n",
              "      <td>Test</td>\n",
              "    </tr>\n",
              "    <tr>\n",
              "      <th>2043</th>\n",
              "      <td>46</td>\n",
              "      <td>2</td>\n",
              "      <td>669</td>\n",
              "      <td>2</td>\n",
              "      <td>9</td>\n",
              "      <td>2</td>\n",
              "      <td>3</td>\n",
              "      <td>3</td>\n",
              "      <td>1</td>\n",
              "      <td>64</td>\n",
              "      <td>...</td>\n",
              "      <td>3</td>\n",
              "      <td>9.0</td>\n",
              "      <td>8</td>\n",
              "      <td>4</td>\n",
              "      <td>7</td>\n",
              "      <td>2.249994</td>\n",
              "      <td>1</td>\n",
              "      <td>1.558490</td>\n",
              "      <td>1</td>\n",
              "      <td>Test</td>\n",
              "    </tr>\n",
              "    <tr>\n",
              "      <th>2044</th>\n",
              "      <td>30</td>\n",
              "      <td>2</td>\n",
              "      <td>1240</td>\n",
              "      <td>0</td>\n",
              "      <td>9</td>\n",
              "      <td>3</td>\n",
              "      <td>0</td>\n",
              "      <td>3</td>\n",
              "      <td>1</td>\n",
              "      <td>48</td>\n",
              "      <td>...</td>\n",
              "      <td>1</td>\n",
              "      <td>11.0</td>\n",
              "      <td>9</td>\n",
              "      <td>4</td>\n",
              "      <td>7</td>\n",
              "      <td>2.749993</td>\n",
              "      <td>7</td>\n",
              "      <td>2.052053</td>\n",
              "      <td>0</td>\n",
              "      <td>Test</td>\n",
              "    </tr>\n",
              "    <tr>\n",
              "      <th>2045</th>\n",
              "      <td>31</td>\n",
              "      <td>2</td>\n",
              "      <td>741</td>\n",
              "      <td>1</td>\n",
              "      <td>2</td>\n",
              "      <td>4</td>\n",
              "      <td>1</td>\n",
              "      <td>2</td>\n",
              "      <td>1</td>\n",
              "      <td>69</td>\n",
              "      <td>...</td>\n",
              "      <td>4</td>\n",
              "      <td>5.0</td>\n",
              "      <td>2</td>\n",
              "      <td>0</td>\n",
              "      <td>3</td>\n",
              "      <td>500000.000000</td>\n",
              "      <td>0</td>\n",
              "      <td>1.207921</td>\n",
              "      <td>0</td>\n",
              "      <td>Test</td>\n",
              "    </tr>\n",
              "    <tr>\n",
              "      <th>2046</th>\n",
              "      <td>31</td>\n",
              "      <td>2</td>\n",
              "      <td>670</td>\n",
              "      <td>1</td>\n",
              "      <td>26</td>\n",
              "      <td>1</td>\n",
              "      <td>1</td>\n",
              "      <td>1</td>\n",
              "      <td>1</td>\n",
              "      <td>31</td>\n",
              "      <td>...</td>\n",
              "      <td>2</td>\n",
              "      <td>5.0</td>\n",
              "      <td>2</td>\n",
              "      <td>4</td>\n",
              "      <td>3</td>\n",
              "      <td>1.249997</td>\n",
              "      <td>2</td>\n",
              "      <td>1.008663</td>\n",
              "      <td>0</td>\n",
              "      <td>Test</td>\n",
              "    </tr>\n",
              "  </tbody>\n",
              "</table>\n",
              "<p>2047 rows × 35 columns</p>\n",
              "</div>\n",
              "    <div class=\"colab-df-buttons\">\n",
              "\n",
              "  <div class=\"colab-df-container\">\n",
              "    <button class=\"colab-df-convert\" onclick=\"convertToInteractive('df-98cd4147-aa0f-4d0e-9eeb-c9f00817a4a0')\"\n",
              "            title=\"Convert this dataframe to an interactive table.\"\n",
              "            style=\"display:none;\">\n",
              "\n",
              "  <svg xmlns=\"http://www.w3.org/2000/svg\" height=\"24px\" viewBox=\"0 -960 960 960\">\n",
              "    <path d=\"M120-120v-720h720v720H120Zm60-500h600v-160H180v160Zm220 220h160v-160H400v160Zm0 220h160v-160H400v160ZM180-400h160v-160H180v160Zm440 0h160v-160H620v160ZM180-180h160v-160H180v160Zm440 0h160v-160H620v160Z\"/>\n",
              "  </svg>\n",
              "    </button>\n",
              "\n",
              "  <style>\n",
              "    .colab-df-container {\n",
              "      display:flex;\n",
              "      gap: 12px;\n",
              "    }\n",
              "\n",
              "    .colab-df-convert {\n",
              "      background-color: #E8F0FE;\n",
              "      border: none;\n",
              "      border-radius: 50%;\n",
              "      cursor: pointer;\n",
              "      display: none;\n",
              "      fill: #1967D2;\n",
              "      height: 32px;\n",
              "      padding: 0 0 0 0;\n",
              "      width: 32px;\n",
              "    }\n",
              "\n",
              "    .colab-df-convert:hover {\n",
              "      background-color: #E2EBFA;\n",
              "      box-shadow: 0px 1px 2px rgba(60, 64, 67, 0.3), 0px 1px 3px 1px rgba(60, 64, 67, 0.15);\n",
              "      fill: #174EA6;\n",
              "    }\n",
              "\n",
              "    .colab-df-buttons div {\n",
              "      margin-bottom: 4px;\n",
              "    }\n",
              "\n",
              "    [theme=dark] .colab-df-convert {\n",
              "      background-color: #3B4455;\n",
              "      fill: #D2E3FC;\n",
              "    }\n",
              "\n",
              "    [theme=dark] .colab-df-convert:hover {\n",
              "      background-color: #434B5C;\n",
              "      box-shadow: 0px 1px 3px 1px rgba(0, 0, 0, 0.15);\n",
              "      filter: drop-shadow(0px 1px 2px rgba(0, 0, 0, 0.3));\n",
              "      fill: #FFFFFF;\n",
              "    }\n",
              "  </style>\n",
              "\n",
              "    <script>\n",
              "      const buttonEl =\n",
              "        document.querySelector('#df-98cd4147-aa0f-4d0e-9eeb-c9f00817a4a0 button.colab-df-convert');\n",
              "      buttonEl.style.display =\n",
              "        google.colab.kernel.accessAllowed ? 'block' : 'none';\n",
              "\n",
              "      async function convertToInteractive(key) {\n",
              "        const element = document.querySelector('#df-98cd4147-aa0f-4d0e-9eeb-c9f00817a4a0');\n",
              "        const dataTable =\n",
              "          await google.colab.kernel.invokeFunction('convertToInteractive',\n",
              "                                                    [key], {});\n",
              "        if (!dataTable) return;\n",
              "\n",
              "        const docLinkHtml = 'Like what you see? Visit the ' +\n",
              "          '<a target=\"_blank\" href=https://colab.research.google.com/notebooks/data_table.ipynb>data table notebook</a>'\n",
              "          + ' to learn more about interactive tables.';\n",
              "        element.innerHTML = '';\n",
              "        dataTable['output_type'] = 'display_data';\n",
              "        await google.colab.output.renderOutput(dataTable, element);\n",
              "        const docLink = document.createElement('div');\n",
              "        docLink.innerHTML = docLinkHtml;\n",
              "        element.appendChild(docLink);\n",
              "      }\n",
              "    </script>\n",
              "  </div>\n",
              "\n",
              "\n",
              "<div id=\"df-4766433a-312e-47eb-9494-589ba030cb03\">\n",
              "  <button class=\"colab-df-quickchart\" onclick=\"quickchart('df-4766433a-312e-47eb-9494-589ba030cb03')\"\n",
              "            title=\"Suggest charts\"\n",
              "            style=\"display:none;\">\n",
              "\n",
              "<svg xmlns=\"http://www.w3.org/2000/svg\" height=\"24px\"viewBox=\"0 0 24 24\"\n",
              "     width=\"24px\">\n",
              "    <g>\n",
              "        <path d=\"M19 3H5c-1.1 0-2 .9-2 2v14c0 1.1.9 2 2 2h14c1.1 0 2-.9 2-2V5c0-1.1-.9-2-2-2zM9 17H7v-7h2v7zm4 0h-2V7h2v10zm4 0h-2v-4h2v4z\"/>\n",
              "    </g>\n",
              "</svg>\n",
              "  </button>\n",
              "\n",
              "<style>\n",
              "  .colab-df-quickchart {\n",
              "      --bg-color: #E8F0FE;\n",
              "      --fill-color: #1967D2;\n",
              "      --hover-bg-color: #E2EBFA;\n",
              "      --hover-fill-color: #174EA6;\n",
              "      --disabled-fill-color: #AAA;\n",
              "      --disabled-bg-color: #DDD;\n",
              "  }\n",
              "\n",
              "  [theme=dark] .colab-df-quickchart {\n",
              "      --bg-color: #3B4455;\n",
              "      --fill-color: #D2E3FC;\n",
              "      --hover-bg-color: #434B5C;\n",
              "      --hover-fill-color: #FFFFFF;\n",
              "      --disabled-bg-color: #3B4455;\n",
              "      --disabled-fill-color: #666;\n",
              "  }\n",
              "\n",
              "  .colab-df-quickchart {\n",
              "    background-color: var(--bg-color);\n",
              "    border: none;\n",
              "    border-radius: 50%;\n",
              "    cursor: pointer;\n",
              "    display: none;\n",
              "    fill: var(--fill-color);\n",
              "    height: 32px;\n",
              "    padding: 0;\n",
              "    width: 32px;\n",
              "  }\n",
              "\n",
              "  .colab-df-quickchart:hover {\n",
              "    background-color: var(--hover-bg-color);\n",
              "    box-shadow: 0 1px 2px rgba(60, 64, 67, 0.3), 0 1px 3px 1px rgba(60, 64, 67, 0.15);\n",
              "    fill: var(--button-hover-fill-color);\n",
              "  }\n",
              "\n",
              "  .colab-df-quickchart-complete:disabled,\n",
              "  .colab-df-quickchart-complete:disabled:hover {\n",
              "    background-color: var(--disabled-bg-color);\n",
              "    fill: var(--disabled-fill-color);\n",
              "    box-shadow: none;\n",
              "  }\n",
              "\n",
              "  .colab-df-spinner {\n",
              "    border: 2px solid var(--fill-color);\n",
              "    border-color: transparent;\n",
              "    border-bottom-color: var(--fill-color);\n",
              "    animation:\n",
              "      spin 1s steps(1) infinite;\n",
              "  }\n",
              "\n",
              "  @keyframes spin {\n",
              "    0% {\n",
              "      border-color: transparent;\n",
              "      border-bottom-color: var(--fill-color);\n",
              "      border-left-color: var(--fill-color);\n",
              "    }\n",
              "    20% {\n",
              "      border-color: transparent;\n",
              "      border-left-color: var(--fill-color);\n",
              "      border-top-color: var(--fill-color);\n",
              "    }\n",
              "    30% {\n",
              "      border-color: transparent;\n",
              "      border-left-color: var(--fill-color);\n",
              "      border-top-color: var(--fill-color);\n",
              "      border-right-color: var(--fill-color);\n",
              "    }\n",
              "    40% {\n",
              "      border-color: transparent;\n",
              "      border-right-color: var(--fill-color);\n",
              "      border-top-color: var(--fill-color);\n",
              "    }\n",
              "    60% {\n",
              "      border-color: transparent;\n",
              "      border-right-color: var(--fill-color);\n",
              "    }\n",
              "    80% {\n",
              "      border-color: transparent;\n",
              "      border-right-color: var(--fill-color);\n",
              "      border-bottom-color: var(--fill-color);\n",
              "    }\n",
              "    90% {\n",
              "      border-color: transparent;\n",
              "      border-bottom-color: var(--fill-color);\n",
              "    }\n",
              "  }\n",
              "</style>\n",
              "\n",
              "  <script>\n",
              "    async function quickchart(key) {\n",
              "      const quickchartButtonEl =\n",
              "        document.querySelector('#' + key + ' button');\n",
              "      quickchartButtonEl.disabled = true;  // To prevent multiple clicks.\n",
              "      quickchartButtonEl.classList.add('colab-df-spinner');\n",
              "      try {\n",
              "        const charts = await google.colab.kernel.invokeFunction(\n",
              "            'suggestCharts', [key], {});\n",
              "      } catch (error) {\n",
              "        console.error('Error during call to suggestCharts:', error);\n",
              "      }\n",
              "      quickchartButtonEl.classList.remove('colab-df-spinner');\n",
              "      quickchartButtonEl.classList.add('colab-df-quickchart-complete');\n",
              "    }\n",
              "    (() => {\n",
              "      let quickchartButtonEl =\n",
              "        document.querySelector('#df-4766433a-312e-47eb-9494-589ba030cb03 button');\n",
              "      quickchartButtonEl.style.display =\n",
              "        google.colab.kernel.accessAllowed ? 'block' : 'none';\n",
              "    })();\n",
              "  </script>\n",
              "</div>\n",
              "\n",
              "  <div id=\"id_9f61539c-68ec-42af-bc4a-f52ae31f6ef4\">\n",
              "    <style>\n",
              "      .colab-df-generate {\n",
              "        background-color: #E8F0FE;\n",
              "        border: none;\n",
              "        border-radius: 50%;\n",
              "        cursor: pointer;\n",
              "        display: none;\n",
              "        fill: #1967D2;\n",
              "        height: 32px;\n",
              "        padding: 0 0 0 0;\n",
              "        width: 32px;\n",
              "      }\n",
              "\n",
              "      .colab-df-generate:hover {\n",
              "        background-color: #E2EBFA;\n",
              "        box-shadow: 0px 1px 2px rgba(60, 64, 67, 0.3), 0px 1px 3px 1px rgba(60, 64, 67, 0.15);\n",
              "        fill: #174EA6;\n",
              "      }\n",
              "\n",
              "      [theme=dark] .colab-df-generate {\n",
              "        background-color: #3B4455;\n",
              "        fill: #D2E3FC;\n",
              "      }\n",
              "\n",
              "      [theme=dark] .colab-df-generate:hover {\n",
              "        background-color: #434B5C;\n",
              "        box-shadow: 0px 1px 3px 1px rgba(0, 0, 0, 0.15);\n",
              "        filter: drop-shadow(0px 1px 2px rgba(0, 0, 0, 0.3));\n",
              "        fill: #FFFFFF;\n",
              "      }\n",
              "    </style>\n",
              "    <button class=\"colab-df-generate\" onclick=\"generateWithVariable('df')\"\n",
              "            title=\"Generate code using this dataframe.\"\n",
              "            style=\"display:none;\">\n",
              "\n",
              "  <svg xmlns=\"http://www.w3.org/2000/svg\" height=\"24px\"viewBox=\"0 0 24 24\"\n",
              "       width=\"24px\">\n",
              "    <path d=\"M7,19H8.4L18.45,9,17,7.55,7,17.6ZM5,21V16.75L18.45,3.32a2,2,0,0,1,2.83,0l1.4,1.43a1.91,1.91,0,0,1,.58,1.4,1.91,1.91,0,0,1-.58,1.4L9.25,21ZM18.45,9,17,7.55Zm-12,3A5.31,5.31,0,0,0,4.9,8.1,5.31,5.31,0,0,0,1,6.5,5.31,5.31,0,0,0,4.9,4.9,5.31,5.31,0,0,0,6.5,1,5.31,5.31,0,0,0,8.1,4.9,5.31,5.31,0,0,0,12,6.5,5.46,5.46,0,0,0,6.5,12Z\"/>\n",
              "  </svg>\n",
              "    </button>\n",
              "    <script>\n",
              "      (() => {\n",
              "      const buttonEl =\n",
              "        document.querySelector('#id_9f61539c-68ec-42af-bc4a-f52ae31f6ef4 button.colab-df-generate');\n",
              "      buttonEl.style.display =\n",
              "        google.colab.kernel.accessAllowed ? 'block' : 'none';\n",
              "\n",
              "      buttonEl.onclick = () => {\n",
              "        google.colab.notebook.generateWithVariable('df');\n",
              "      }\n",
              "      })();\n",
              "    </script>\n",
              "  </div>\n",
              "\n",
              "    </div>\n",
              "  </div>\n"
            ],
            "application/vnd.google.colaboratory.intrinsic+json": {
              "type": "dataframe",
              "variable_name": "df"
            }
          },
          "metadata": {},
          "execution_count": 52
        }
      ]
    },
    {
      "cell_type": "code",
      "source": [
        "train_df = df[df['Set'] == 'Train'].drop(columns=['Set'])\n",
        "test_df = df[df['Set'] == 'Test'].drop(columns=['Set'])\n",
        "\n",
        "X_train = train_df.drop(columns=['Attrition'])\n",
        "y_train = train_df['Attrition']\n",
        "\n",
        "X_test = test_df.drop(columns=['Attrition'])\n",
        "y_test = test_df['Attrition']\n",
        "\n",
        "print(\"X_train:\", X_train.shape, \"y_train:\", y_train.shape)\n",
        "print(\"X_test:\", X_test.shape, \"y_test:\", y_test.shape)"
      ],
      "metadata": {
        "id": "wg0LKcIYlHDo",
        "colab": {
          "base_uri": "https://localhost:8080/"
        },
        "outputId": "2eac71d1-ba42-4e82-b486-b74bb1f8516f"
      },
      "execution_count": null,
      "outputs": [
        {
          "output_type": "stream",
          "name": "stdout",
          "text": [
            "X_train: (1589, 33) y_train: (1589,)\n",
            "X_test: (458, 33) y_test: (458,)\n"
          ]
        }
      ]
    },
    {
      "cell_type": "markdown",
      "source": [
        "# **Model-Specific EDA (Optional)**"
      ],
      "metadata": {
        "id": "WxsyCHUIa_R9"
      }
    },
    {
      "cell_type": "code",
      "source": [
        "print(\"Target variable distribution in the training set:\")\n",
        "print(y_train.value_counts())\n",
        "plt.figure(figsize=(6, 4))\n",
        "sns.countplot(x=y_train)\n",
        "plt.title('Class Distribution in Training Set (Before SMOTE)')\n",
        "plt.xlabel('Attrition (0: No, 1: Yes)')\n",
        "plt.ylabel('Count')\n",
        "plt.show()"
      ],
      "metadata": {
        "id": "R4oz_TNPbB2k"
      },
      "execution_count": null,
      "outputs": []
    },
    {
      "cell_type": "markdown",
      "source": [
        "# **Model Initialization**"
      ],
      "metadata": {
        "id": "zCeJJ0dfbElT"
      }
    },
    {
      "cell_type": "code",
      "source": [
        "etc_classifier = ExtraTreesClassifier(\n",
        "    n_estimators=100,\n",
        "    random_state=123,\n",
        "    n_jobs=-1,\n",
        "    max_depth=10,\n",
        "    min_samples_split=5,\n",
        "    min_samples_leaf=2\n",
        ")"
      ],
      "metadata": {
        "id": "zxxuFKxObGYs"
      },
      "execution_count": null,
      "outputs": []
    },
    {
      "cell_type": "markdown",
      "source": [
        "# **Model Training**"
      ],
      "metadata": {
        "id": "fozvp2nubOh8"
      }
    },
    {
      "cell_type": "code",
      "source": [
        "etc_classifier.fit(X_train, y_train)"
      ],
      "metadata": {
        "id": "nW50MCm7bQus"
      },
      "execution_count": null,
      "outputs": []
    },
    {
      "cell_type": "markdown",
      "source": [
        "# **Model Evaluation**"
      ],
      "metadata": {
        "id": "iiqEH209bTbr"
      }
    },
    {
      "cell_type": "code",
      "source": [
        "y_pred = etc_classifier.predict(X_test)\n",
        "y_pred_proba = etc_classifier.predict_proba(X_test)[:, 1]"
      ],
      "metadata": {
        "id": "nnj9AEiMbS9k"
      },
      "execution_count": null,
      "outputs": []
    },
    {
      "cell_type": "code",
      "source": [
        "accuracy = accuracy_score(y_test, y_pred)\n",
        "print(f\"Accuracy: {accuracy:.4f}\")"
      ],
      "metadata": {
        "id": "RiyEAdve1zpY"
      },
      "execution_count": null,
      "outputs": []
    },
    {
      "cell_type": "code",
      "source": [
        "print(\"Classification Report:\")\n",
        "report = classification_report(y_test, y_pred, target_names=['No Attrition', 'Attrition'])\n",
        "print(report)"
      ],
      "metadata": {
        "id": "1EJh868a1z96"
      },
      "execution_count": null,
      "outputs": []
    },
    {
      "cell_type": "markdown",
      "source": [
        "\n",
        "\n",
        "> The model is performing well for the \"No Attrition\" class, while it struggles with the Attrition Class, especially the recall with (0.39), which means that it misses 61% of acutal attrition cases.\n",
        "\n",
        "\n",
        "\n",
        "> The overall accuracy was 83%  \n",
        "\n",
        "\n",
        "\n",
        "> The model is baised toward the \"No Attrition\"\n",
        "\n",
        "\n",
        "\n",
        "\n",
        "\n"
      ],
      "metadata": {
        "id": "yXX-mcRHWnYE"
      }
    },
    {
      "cell_type": "code",
      "source": [
        "our_confusion_matrix(etc_classifier, name=\"Extra Trees Classifier\")"
      ],
      "metadata": {
        "id": "n5bgFRjh16R3"
      },
      "execution_count": null,
      "outputs": []
    },
    {
      "cell_type": "code",
      "source": [
        "our_roc(etc_classifier, name=\"Extra Trees Classifier\")"
      ],
      "metadata": {
        "id": "BTZoFFva1_iI"
      },
      "execution_count": null,
      "outputs": []
    },
    {
      "cell_type": "code",
      "source": [
        "our_learning_curve(etc_classifier, name=\"Extra Trees Classifier\")"
      ],
      "metadata": {
        "id": "joklTu-P8QF_"
      },
      "execution_count": null,
      "outputs": []
    },
    {
      "cell_type": "markdown",
      "source": [
        "> The model acheives Almost 1 Score, indicating overfitting\n",
        "\n",
        "\n",
        "> The cross validation increases moderatly and stopped increasing at 0.8, indicating that the model is not imporve further with more data.\n",
        "\n",
        "\n"
      ],
      "metadata": {
        "id": "zfZ6ijoKX251"
      }
    },
    {
      "cell_type": "code",
      "source": [
        "our_prc(etc_classifier, name=\"Extra Trees Classifier\")"
      ],
      "metadata": {
        "id": "GJtQsFgo8S_u"
      },
      "execution_count": null,
      "outputs": []
    },
    {
      "cell_type": "markdown",
      "source": [
        "\n",
        "\n",
        "> The training performace is nearly perfect, indicating that the model fit the data too well, and there is a sign of overfitting.\n",
        "\n",
        "\n",
        "\n",
        "> The test performance shows that the model faileed to generalize the unseend data for the \"Attrition\" class.\n",
        "\n",
        "\n",
        "\n"
      ],
      "metadata": {
        "id": "9FCWVXHBYhmg"
      }
    },
    {
      "cell_type": "markdown",
      "source": [
        "# **Explainability Techniques**"
      ],
      "metadata": {
        "id": "iBBZDPu0baWD"
      }
    },
    {
      "cell_type": "markdown",
      "source": [],
      "metadata": {
        "id": "XDyt1XRMYWEg"
      }
    },
    {
      "cell_type": "markdown",
      "source": [
        "**examples only, use any**"
      ],
      "metadata": {
        "id": "4KB4SMvIeHhR"
      }
    },
    {
      "cell_type": "markdown",
      "source": [
        "## LIME Analysis"
      ],
      "metadata": {
        "id": "VLMOy8bTbn6b"
      }
    },
    {
      "cell_type": "code",
      "source": [
        "explainer = lime.lime_tabular.LimeTabularExplainer(\n",
        "    training_data=np.array(X_train),\n",
        "    feature_names=X_train.columns,\n",
        "    class_names=['No Attrition', 'Attrition'],\n",
        "    mode='classification'\n",
        ")\n",
        "\n",
        "instance = X_test.iloc[0]\n",
        "\n",
        "pred_prob = etc_classifier.predict_proba([instance])[0][1]\n",
        "\n",
        "exp = explainer.explain_instance(instance.values, etc_classifier.predict_proba, num_features=10)"
      ],
      "metadata": {
        "id": "1SISNxza9zvm"
      },
      "execution_count": null,
      "outputs": []
    },
    {
      "cell_type": "code",
      "source": [
        "values = [v for _, v in exp.as_list(label=1)]\n",
        "features = [f for f, _ in exp.as_list(label=1)]\n",
        "colors = ['#2ecc71' if v > 0 else '#e74c3c' for v in values]\n",
        "\n",
        "wrapped_features = [textwrap.fill(f, width=30) for f in features]\n",
        "\n",
        "fig, ax = plt.subplots(figsize=(12, 10))\n",
        "y_pos = np.arange(len(wrapped_features))\n",
        "bars = ax.barh(y_pos, values, color=colors, alpha=0.8)\n",
        "\n",
        "ax.set_yticks(y_pos)\n",
        "ax.set_yticklabels(wrapped_features, fontsize=11)\n",
        "ax.invert_yaxis()\n",
        "ax.set_xlabel('Feature Impact', fontsize=12)\n",
        "ax.set_title(f'LIME Explanation\\n(Predicted Probability: {pred_prob:.2f})', fontsize=14, weight='bold', pad=15)\n",
        "\n",
        "for i, v in enumerate(values):\n",
        "    ax.text(v + 0.005 if v > 0 else v - 0.005, i, f\"{v:.2f}\",\n",
        "            va='center', ha='left' if v > 0 else 'right', fontsize=10)\n",
        "\n",
        "plt.tight_layout()\n",
        "plt.show()\n",
        "plt.savefig('LIME - Extra Trees Classifier.jpg')"
      ],
      "metadata": {
        "id": "WHuTsOuqJFX_"
      },
      "execution_count": null,
      "outputs": []
    },
    {
      "cell_type": "markdown",
      "source": [
        "**The 69% is the Attrition risk.**\n",
        "\n",
        "> Green bars are the features that increase the chance of leaving, While red bars decreases it.\n",
        "\n",
        "> StockOptionLevel(<=0) has the most impact for employee to leave. JobLevel (<=1) and JobSatisfaction (<=1) are also strong flags to push the employee toward leaving the compnay.\n",
        "\n",
        "\n",
        "> workload_score (<=1) a lower workload decreases the probability of leaving. JobInvolvement (<=3) a lower job involvement decreases the probability of leaving. The same intepretation with the other columns.\n",
        "\n",
        "\n",
        "\n",
        "> Some interpretations might not be really meaningful becuase the model is overfit.\n",
        "\n",
        "\n",
        "\n",
        "\n",
        "\n",
        "\n",
        "\n",
        "\n",
        "\n",
        "\n"
      ],
      "metadata": {
        "id": "583j40dDZU-_"
      }
    },
    {
      "cell_type": "markdown",
      "source": [
        "## SHAP Analysis"
      ],
      "metadata": {
        "id": "V5gS2haKblrr"
      }
    },
    {
      "cell_type": "code",
      "source": [
        "explainer = shap.TreeExplainer(etc_classifier)\n",
        "\n",
        "sample_size = min(100, len(X_test))\n",
        "X_sample = X_test.iloc[:sample_size]\n",
        "\n",
        "shap_values = explainer.shap_values(X_sample)\n",
        "\n",
        "if len(np.array(shap_values).shape) == 3:\n",
        "    shap_values_attrition = shap_values[:,:,1]\n",
        "elif len(np.array(shap_values).shape) == 2:\n",
        "    shap_values_attrition = shap_values\n",
        "\n",
        "plt.figure(figsize=(12, 8))\n",
        "shap.summary_plot(\n",
        "    shap_values_attrition,\n",
        "    X_sample,\n",
        "    feature_names=X_train.columns.tolist(),\n",
        "    plot_type=\"dot\",\n",
        "    show=False\n",
        ")\n",
        "plt.title(\"SHAP Feature Importance for Attrition Prediction\", pad=20)\n",
        "plt.tight_layout()\n",
        "plt.show()\n",
        "plt.savefig('SHAP - Extra Trees Classifier.jpg')"
      ],
      "metadata": {
        "id": "lodTn_yYbjBs"
      },
      "execution_count": null,
      "outputs": []
    },
    {
      "cell_type": "markdown",
      "source": [
        "\n",
        "> Each dot represent a person, and color show if their value for this feature is high (red) or low (blue).\n",
        "\n",
        "> StockOptionLevel is the most influence factor, people with low stock options (blue dots) are more likely to leave, while those with high stock options are more likely to stay.\n",
        "\n",
        "\n",
        "\n",
        "> On the other hand MaritalStatus has a relatively small impact, because the spread of dots is narrow, meaning the MaritalStatus doesn't strongly push the prediction toward staying or leaving.\n",
        "\n",
        "\n",
        "\n"
      ],
      "metadata": {
        "id": "zLAiUwWwtJHh"
      }
    },
    {
      "cell_type": "markdown",
      "source": [
        "## Feature Importance (Model-Specific)"
      ],
      "metadata": {
        "id": "SBk7neiPbsOE"
      }
    },
    {
      "cell_type": "code",
      "source": [
        "importances = etc_classifier.feature_importances_\n",
        "feature_names = X_train.columns\n",
        "feature_importance_df = pd.DataFrame({'Feature': feature_names, 'Importance': importances})\n",
        "feature_importance_df = feature_importance_df.sort_values(by='Importance', ascending=False)"
      ],
      "metadata": {
        "id": "GkICHv_Obtq0"
      },
      "execution_count": null,
      "outputs": []
    },
    {
      "cell_type": "code",
      "source": [
        "plt.figure(figsize=(10, 8))\n",
        "sns.barplot(x='Importance', y='Feature', data=feature_importance_df)\n",
        "plt.title('Feature Importances - Extra Trees Classifier')\n",
        "plt.tight_layout()\n",
        "plt.show()\n",
        "plt.savefig('Feature Importance - Extra Trees Classifier.jpg')"
      ],
      "metadata": {
        "id": "bmy6QNdA2Vcg"
      },
      "execution_count": null,
      "outputs": []
    },
    {
      "cell_type": "markdown",
      "source": [
        "\n",
        "\n",
        "> Built-in feature importance ranked from the most important to the lowest.\n",
        "\n"
      ],
      "metadata": {
        "id": "Ps7VUymGuNv2"
      }
    },
    {
      "cell_type": "markdown",
      "source": [
        "## Partial Dependence Plots"
      ],
      "metadata": {
        "id": "sgOuzkoqbuCj"
      }
    },
    {
      "cell_type": "code",
      "source": [
        "top_9_features = feature_importance_df.head(9)['Feature'].tolist()\n",
        "\n",
        "n_cols = 3\n",
        "n_rows = 3\n",
        "fig, axes = plt.subplots(n_rows, n_cols, figsize=(15, 3.5*n_rows))\n",
        "axes = axes.flatten()\n",
        "\n",
        "for i, (ax, feature_name) in enumerate(zip(axes, top_9_features)):\n",
        "    PartialDependenceDisplay.from_estimator(\n",
        "        etc_classifier,\n",
        "        X_test[X_train.columns],\n",
        "        features=[X_train.columns.get_loc(feature_name)],\n",
        "        target=1,\n",
        "        ax=ax,\n",
        "        line_kw={'color':'#1f77b4', 'lw':2},\n",
        "        ice_lines_kw={'color':'#1f77b4', 'alpha':0.05, 'lw':0.5},\n",
        "        pd_line_kw={'color':'#ff7f0e', 'alpha':0.3}\n",
        "    )\n",
        "\n",
        "    ax.set_title(f\"{feature_name}\", pad=8, fontsize=11, fontweight='bold')\n",
        "    ax.set_xlabel(\"Feature Value\", fontsize=9)\n",
        "    ax.set_ylabel(\"Attrition Prob\" if i%n_cols==0 else \"\", fontsize=9)\n",
        "    ax.grid(True, linestyle=':', alpha=0.3)\n",
        "\n",
        "    plt.setp(ax.get_xticklabels(), rotation=45, ha='right')\n",
        "\n",
        "for j in range(i+1, len(axes)):\n",
        "    fig.delaxes(axes[j])\n",
        "\n",
        "plt.suptitle(\"Partial Dependence Plots - Top 10 Features\", y=1.02, fontsize=14, fontweight='bold')\n",
        "plt.tight_layout()\n",
        "plt.show()\n",
        "plt.savefig('PDP - Extra Trees Classifier.jpg')"
      ],
      "metadata": {
        "id": "FYIMUMpfE-W_"
      },
      "execution_count": null,
      "outputs": []
    },
    {
      "cell_type": "markdown",
      "source": [
        "\n",
        "\n",
        "> As the stock option level increases from 0 to 3, the predicted probability of attrition decreases from 0.34 to 0.22. We can determine from here that higher StockOptionLevel reduce employee attrition.\n",
        "\n",
        "\n",
        "\n",
        "> StockOptionLevel and JobSatisfaction change the probablity the most, dropping it from 0.34 to 0.22, as their values increases. JobLevel and JobInvolvement also show notable changes, while\n",
        "\n",
        "\n",
        "\n",
        "\n",
        "\n",
        "\n"
      ],
      "metadata": {
        "id": "J4x6MSO4uYm1"
      }
    },
    {
      "cell_type": "markdown",
      "source": [
        "## Permutation Feature Importance"
      ],
      "metadata": {
        "id": "5rqKBRSJT-rf"
      }
    },
    {
      "cell_type": "code",
      "source": [
        "result = permutation_importance(\n",
        "    etc_classifier,\n",
        "    X_test[X_train.columns],\n",
        "    y_test,\n",
        "    n_repeats=10,\n",
        "    random_state=42\n",
        ")\n",
        "\n",
        "sorted_idx = result.importances_mean.argsort()\n",
        "\n",
        "plt.barh(X_train.columns[sorted_idx], result.importances_mean[sorted_idx])\n",
        "plt.title(\"Permutation Feature Importance\")\n",
        "plt.tight_layout()\n",
        "plt.savefig('PFI - Extra Trees Classifier.jpg')"
      ],
      "metadata": {
        "id": "S0IccwmeUEko"
      },
      "execution_count": null,
      "outputs": []
    },
    {
      "cell_type": "markdown",
      "source": [
        "The PFI method tries to estimate how important a feature is for model results based on what happens to the model when we change the feature connected to the target variable. Features like StockOptionLevel and workload_score have the most impact, while features like Department and MonthlyRatehave the least impact."
      ],
      "metadata": {
        "id": "WgoCPhoVxl27"
      }
    }
  ]
}